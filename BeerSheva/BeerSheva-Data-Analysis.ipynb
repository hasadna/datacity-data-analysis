{
 "cells": [
  {
   "cell_type": "markdown",
   "metadata": {},
   "source": [
    "# Beer Sheva Data Files Analysis"
   ]
  },
  {
   "cell_type": "code",
   "execution_count": 1,
   "metadata": {},
   "outputs": [],
   "source": [
    "import json\n",
    "import requests\n",
    "from dataflows import Flow, printer, set_type, concatenate"
   ]
  },
  {
   "cell_type": "code",
   "execution_count": 2,
   "metadata": {},
   "outputs": [],
   "source": [
    "HEADERS={\n",
    "    'Pragma': 'no-cache',\n",
    "    'Cache-Control': 'no-cache',\n",
    "    'Upgrade-Insecure-Requests': '1',\n",
    "    'Accept': 'text/html,application/xhtml+xml,application/xml;q=0.9,image/webp,image/apng,*/*;q=0.8',\n",
    "    'Accept-Encoding': 'gzip, deflate',\n",
    "    'Accept-Language': 'en-US,en;q=0.9,he;q=0.8',\n",
    "    'User-Agent': 'Mozilla/5.0 (Macintosh; Intel Mac OS X 10_12_6) AppleWebKit/537.36 (KHTML, like Gecko) Chrome/71.0.3578.98 Safari/537.36'\n",
    "}"
   ]
  },
  {
   "cell_type": "markdown",
   "metadata": {},
   "source": [
    "## Open Jobs API"
   ]
  },
  {
   "cell_type": "code",
   "execution_count": 3,
   "metadata": {},
   "outputs": [],
   "source": [
    "URL = 'http://www.beer-sheva.muni.il/_layouts/GetjsonItems.aspx?List=e3ace9fe-6331-4b1a-af84-e3acc0041c71'"
   ]
  },
  {
   "cell_type": "code",
   "execution_count": 8,
   "metadata": {},
   "outputs": [],
   "source": [
    "content = requests.get(URL, headers=HEADERS).text"
   ]
  },
  {
   "cell_type": "code",
   "execution_count": 9,
   "metadata": {},
   "outputs": [],
   "source": [
    "data = json.loads(content.replace('\\t',' '))"
   ]
  },
  {
   "cell_type": "code",
   "execution_count": 10,
   "metadata": {},
   "outputs": [
    {
     "data": {
      "text/plain": [
       "{'ID': '364',\n",
       " 'Title': 'מדריך / ראש צוות באגף הרווחה',\n",
       " 'URL': 'http://www.beer-sheva.muni.il/City/FreeInfo/Lists/List6/DispForm.aspx?ID=364',\n",
       " 'Fields': {'Field': [{'Caption': 'שם מכרז',\n",
       "    'Value': 'מדריך / ראש צוות באגף הרווחה',\n",
       "    'Type': 'Computed',\n",
       "    'LookUpUrl': ''},\n",
       "   {'Caption': 'מספר מכרז',\n",
       "    'Value': '56/2018',\n",
       "    'Type': 'Text',\n",
       "    'LookUpUrl': ''},\n",
       "   {'Caption': 'תאריך אחרון להגשה',\n",
       "    'Value': '31/01/2019 16:00:00',\n",
       "    'Type': 'DateTime',\n",
       "    'LookUpUrl': ''},\n",
       "   {'Caption': 'תאריך עדכון',\n",
       "    'Value': '14/01/2019 00:00:00',\n",
       "    'Type': 'DateTime',\n",
       "    'LookUpUrl': ''}]}}"
      ]
     },
     "execution_count": 10,
     "metadata": {},
     "output_type": "execute_result"
    }
   ],
   "source": [
    "items = data['Root']['Items']['Item']\n",
    "items[0]"
   ]
  },
  {
   "cell_type": "code",
   "execution_count": 11,
   "metadata": {},
   "outputs": [
    {
     "data": {
      "text/plain": [
       "{'שם מכרז': 'מדריך / ראש צוות באגף הרווחה',\n",
       " 'מספר מכרז': '56/2018',\n",
       " 'תאריך אחרון להגשה': '31/01/2019 16:00:00',\n",
       " 'תאריך עדכון': '14/01/2019 00:00:00'}"
      ]
     },
     "execution_count": 11,
     "metadata": {},
     "output_type": "execute_result"
    }
   ],
   "source": [
    "processed = []\n",
    "for item in items:\n",
    "    processed.append(dict(\n",
    "        (f['Caption'], f['Value'])\n",
    "        for f in item['Fields']['Field']\n",
    "    ))\n",
    "processed[0]"
   ]
  },
  {
   "cell_type": "code",
   "execution_count": 13,
   "metadata": {},
   "outputs": [
    {
     "name": "stdout",
     "output_type": "stream",
     "text": [
      "\n"
     ]
    },
    {
     "data": {
      "text/html": [
       "<h3>concat</h3>"
      ],
      "text/plain": [
       "<IPython.core.display.HTML object>"
      ]
     },
     "metadata": {},
     "output_type": "display_data"
    },
    {
     "data": {
      "text/html": [
       "<table>\n",
       "<thead>\n",
       "<tr><th>#  </th><th>title\n",
       "(string)                                                                                      </th><th>tender_id\n",
       "(string)           </th><th>claim_date\n",
       "(datetime)                    </th><th>update_date\n",
       "(date)           </th></tr>\n",
       "</thead>\n",
       "<tbody>\n",
       "<tr><td>1  </td><td>מדריך / ראש צוות באגף הרווחה                                                         </td><td>56/2018   </td><td>2019-01-31 16:00:00</td><td>2019-01-14</td></tr>\n",
       "<tr><td>2  </td><td>סגן/ית מנהל הקונסרבטוריון העירוני במנהל החינוך                                       </td><td>65/2018   </td><td>2019-01-31 16:00:00</td><td>2019-01-14</td></tr>\n",
       "<tr><td>3  </td><td>עו&quot;ס לטיפול בנפגעי סמים באגף הרווחה ושירותים חברתיים                            </td><td>84/2018   </td><td>2019-01-31 16:00:00</td><td>2019-01-14</td></tr>\n",
       "<tr><td>4  </td><td>מנהל/ת ביה&quot;ס תיכון עירוני מקיף א&#39; במנהל החינוך                              </td><td>87/2018   </td><td>2019-01-31 16:00:00</td><td>2019-01-14</td></tr>\n",
       "<tr><td>5  </td><td>מנהל/ת ביה&quot;ס תיכון מקיף רבין במנהל החינוך                                       </td><td>90/2018   </td><td>2019-01-31 16:00:00</td><td>2019-01-14</td></tr>\n",
       "<tr><td>6  </td><td>מנהל/ת מחלקת רכב וקצין בטיחות בתעבורה                                                </td><td>92/2018   </td><td>2019-01-31 16:00:00</td><td>2019-01-14</td></tr>\n",
       "<tr><td>7  </td><td>מלווה משפחות במסגרת משפחה תומכת בקרב יוצאי העדה האתיופית באגף הרווחה                 </td><td>94/2018   </td><td>2019-01-31 16:00:00</td><td>2019-01-14</td></tr>\n",
       "<tr><td>8  </td><td>פקחים מסייעים / פקחים עירוניים באגף הפיקוח העירוני                                   </td><td>96/2018   </td><td>2019-01-31 16:00:00</td><td>2019-01-14</td></tr>\n",
       "<tr><td>9  </td><td>נציג/ת שרות לקוחות באגף הגבייה                                                       </td><td>1/2019    </td><td>2019-01-31 16:00:00</td><td>2019-01-14</td></tr>\n",
       "<tr><td>10 </td><td>מדריך/ת מוגנות לתלמידים ונוער במצבי סיכון במסגרת תוכנית &quot;עיר ללא אלימות&quot;   </td><td>66/2018   </td><td>2019-01-17 16:00:00</td><td>2018-12-30</td></tr>\n",
       "<tr><td>11 </td><td>מנהל/ת מחלקת מעקב, בקרה ומחשוב באגף הרווחה                                           </td><td>70/2018   </td><td>2019-01-17 16:00:00</td><td>2018-12-30</td></tr>\n",
       "<tr><td>12 </td><td>עובד/ת  במרפאה הווטרינרית העירונית באגף איכות הסביבה                                 </td><td>73/2018   </td><td>2019-01-17 16:00:00</td><td>2018-12-30</td></tr>\n",
       "<tr><td>13 </td><td>מזכיר/ה משרד ברשות המקומית                                                           </td><td>77/2018   </td><td>2019-01-17 16:00:00</td><td>2018-12-30</td></tr>\n",
       "<tr><td>14 </td><td>מנהל/ת השירות המשלים למשפחות לילדים עם מוגבלויות באגף הרווחה                         </td><td>78/2018   </td><td>2019-01-17 16:00:00</td><td>2018-12-30</td></tr>\n",
       "<tr><td>15 </td><td>עובד/ת שכונתי/ת בקרב יוצאי הקהילה האתיופית באגף הרווחה ושירותים חברתיים              </td><td>82/2018   </td><td>2019-01-17 16:00:00</td><td>2018-12-30</td></tr>\n",
       "<tr><td>16 </td><td>עו&quot;ס בקהילה – שיקום שכונות באגף הרווחה ושירותים חברתיים                         </td><td>83/2018   </td><td>2019-01-17 16:00:00</td><td>2018-12-30</td></tr>\n",
       "<tr><td>17 </td><td>עו&quot;ס משפחה באגף הרווחה ושירותים חברתיים                                         </td><td>85/2018   </td><td>2019-01-17 16:00:00</td><td>2018-12-30</td></tr>\n",
       "<tr><td>18 </td><td>עו&quot;ס לזקן באגף הרווחה ושירותים חברתיים                                          </td><td>86/2018   </td><td>2019-01-17 16:00:00</td><td>2018-12-30</td></tr>\n",
       "<tr><td>19 </td><td>אחראי/ת תחזוקה וניקיון בבית-ספר                                                      </td><td>89/2018   </td><td>2019-01-17 16:00:00</td><td>2018-12-30</td></tr>\n",
       "<tr><td>20 </td><td>לשנה&quot;ל תש&quot;פ דרושים סייעות לגני הילדים בחינוך הרגיל (מילוי מקום על פי קריאה)</td><td>וועדת קבלה</td><td>2019-01-22 16:00:00</td><td>2018-12-23</td></tr>\n",
       "<tr><td>...</td><td>                                                                                     </td><td>          </td><td>                   </td><td>          </td></tr>\n",
       "<tr><td>100</td><td>עו&quot;ס לזקן (טיפול בהתעללות והזנחת אזרחים ותיקים) באגף הרווחה                     </td><td>105/2017  </td><td>2018-02-01 16:00:00</td><td>2018-01-15</td></tr>\n",
       "<tr><td>101</td><td>ספרן/מידען בספריה העירונית במנהל החינוך                                              </td><td>112/2017  </td><td>2018-02-01 16:00:00</td><td>2018-01-15</td></tr>\n",
       "<tr><td>102</td><td>נציגי שרות למוקד העירוני                                                             </td><td>1/2018    </td><td>2018-02-01 16:00:00</td><td>2018-01-15</td></tr>\n",
       "<tr><td>103</td><td>מנהל/ת מחלקת פיקוח ואכיפה באגף איכות הסביבה                                          </td><td>80/2017   </td><td>2018-01-11 16:00:00</td><td>2017-12-26</td></tr>\n",
       "<tr><td>104</td><td>מנהל/ת מחלקת תכנון וביצוע פרויקטים נופיים באגף גנים ונוף                             </td><td>94/2017   </td><td>2018-01-11 16:00:00</td><td>2017-12-26</td></tr>\n",
       "<tr><td>105</td><td>רשם/ת נכסים באגף הנכסים                                                              </td><td>114/2017  </td><td>2018-01-11 16:00:00</td><td>2017-12-26</td></tr>\n",
       "<tr><td>106</td><td>שמאי/ת מקרקעין עירוני /ת באגף הנכסים                                                 </td><td>1182017   </td><td>2018-01-11 16:00:00</td><td>2017-12-26</td></tr>\n",
       "<tr><td>107</td><td>מנהל/ת מחלקת רישום פיתוח וקידום מקרקעין באגף הנכסים                                  </td><td>126/2017  </td><td>2018-01-11 16:00:00</td><td>2017-12-26</td></tr>\n",
       "<tr><td>108</td><td>מנהל/ת מחלקת כ&quot;א מינהלי במוסדות החינוך באגף משאבי אנוש                          </td><td>128/2017  </td><td>2018-01-11 16:00:00</td><td>2017-12-26</td></tr>\n",
       "<tr><td>109</td><td>מנהל/ת תכנית &quot;ניצנים&quot; במנהל החינוך - תיקון                                 </td><td>127/2017  </td><td>2018-01-04 16:00:00</td><td>2017-12-19</td></tr>\n",
       "<tr><td>110</td><td>מנהל/ת סיירת ירוקה עירונית באגף איכות הסביבה                                         </td><td>71/2017   </td><td>2018-01-04 16:00:00</td><td>2017-12-18</td></tr>\n",
       "<tr><td>...</td><td>                                                                                     </td><td>          </td><td>                   </td><td>          </td></tr>\n",
       "<tr><td>349</td><td>עובד/ת שכונתי/ת  בקרב יוצאי הקהילה האתיופית באגף הרווחה                              </td><td>37/2014   </td><td>2016-03-01 16:00:00</td><td>2016-01-31</td></tr>\n",
       "<tr><td>350</td><td>מדריך/ת מוגנות לתלמידים ונוער במצבי סיכון                                            </td><td>70/2015   </td><td>2016-03-01 16:00:00</td><td>2016-01-31</td></tr>\n",
       "<tr><td>351</td><td>אחראי / ת אורקולי לבית ספר תיכון מקיף רבין במנהל החינוך                              </td><td>1/2016    </td><td>2016-03-01 16:00:00</td><td>2016-01-31</td></tr>\n",
       "<tr><td>352</td><td>מדריך/ה ירי למטווח העירוני.                                                          </td><td>2/2016    </td><td>2016-02-16 16:00:00</td><td>2016-01-31</td></tr>\n",
       "<tr><td>353</td><td>סייר/ת לסיירת המוקד העירוני                                                          </td><td>5/2016    </td><td>2016-02-16 16:00:00</td><td>2016-01-31</td></tr>\n",
       "<tr><td>354</td><td>אדריכל/ית הרשות המקומית                                                              </td><td>12/2016   </td><td>2016-03-07 16:00:00</td><td>2016-01-25</td></tr>\n",
       "<tr><td>355</td><td>מתמחה בלשכה המשפטית בעיריית באר שבע                                                  </td><td>None      </td><td>2016-03-01 10:00:00</td><td>2016-01-18</td></tr>\n",
       "<tr><td>356</td><td>מנהל/ת מעבדה למגמת תקשורת חוזי במרכז הטכנולוגי.                                      </td><td>56/2015   </td><td>2016-01-26 16:00:00</td><td>2016-01-05</td></tr>\n",
       "<tr><td>357</td><td>רכז/ת צוותי חינוך במנהל החינוך                                                       </td><td>59/2015   </td><td>2016-01-26 16:00:00</td><td>2016-01-05</td></tr>\n",
       "<tr><td>358</td><td>אחראי/ת רישוי באגף רישוי עסקים                                                       </td><td>69/2015   </td><td>2016-01-26 16:00:00</td><td>2016-01-05</td></tr>\n",
       "</tbody>\n",
       "</table>"
      ],
      "text/plain": [
       "<IPython.core.display.HTML object>"
      ]
     },
     "metadata": {},
     "output_type": "display_data"
    },
    {
     "data": {
      "text/plain": [
       "(<datapackage.package.Package at 0x1104d74a8>, {})"
      ]
     },
     "execution_count": 13,
     "metadata": {},
     "output_type": "execute_result"
    }
   ],
   "source": [
    "print()\n",
    "Flow(processed,\n",
    "     concatenate({\n",
    "         'title': ['שם מכרז'],\n",
    "         'tender_id': ['מספר מכרז'],\n",
    "         'claim_date': ['תאריך אחרון להגשה'],\n",
    "         'update_date': ['תאריך עדכון'],\n",
    "     }),\n",
    "     set_type('claim_date', type='datetime', format='%d/%m/%Y %H:%M:%S'),\n",
    "     set_type('update_date', type='date', format='%d/%m/%Y %H:%M:%S'),\n",
    "     printer(tablefmt='html')\n",
    ").process()"
   ]
  },
  {
   "cell_type": "code",
   "execution_count": null,
   "metadata": {},
   "outputs": [],
   "source": []
  },
  {
   "cell_type": "code",
   "execution_count": null,
   "metadata": {},
   "outputs": [],
   "source": []
  }
 ],
 "metadata": {
  "kernelspec": {
   "display_name": "Python 3",
   "language": "python",
   "name": "python3"
  },
  "language_info": {
   "codemirror_mode": {
    "name": "ipython",
    "version": 3
   },
   "file_extension": ".py",
   "mimetype": "text/x-python",
   "name": "python",
   "nbconvert_exporter": "python",
   "pygments_lexer": "ipython3",
   "version": "3.7.0"
  }
 },
 "nbformat": 4,
 "nbformat_minor": 2
}
