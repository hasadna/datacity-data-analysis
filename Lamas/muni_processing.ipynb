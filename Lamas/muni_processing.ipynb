{
 "cells": [
  {
   "cell_type": "code",
   "execution_count": 1,
   "metadata": {},
   "outputs": [],
   "source": [
    "%reload_ext autoreload\n",
    "%autoreload 2"
   ]
  },
  {
   "cell_type": "code",
   "execution_count": 2,
   "metadata": {},
   "outputs": [
    {
     "data": {
      "text/plain": [
       "True"
      ]
     },
     "execution_count": 2,
     "metadata": {},
     "output_type": "execute_result"
    }
   ],
   "source": [
    "from downloader import download_all\n",
    "from preprocess import preprocess_files\n",
    "from process_headers import process_headers, value_fixes\n",
    "\n",
    "import dotenv\n",
    "dotenv.load_dotenv('.env', override=True)"
   ]
  },
  {
   "cell_type": "code",
   "execution_count": 3,
   "metadata": {},
   "outputs": [],
   "source": [
    "filenames = download_all()"
   ]
  },
  {
   "cell_type": "code",
   "execution_count": 4,
   "metadata": {},
   "outputs": [
    {
     "name": "stdout",
     "output_type": "stream",
     "text": [
      "1999 downloads/lamas-muni-1999.xls\n",
      "2000 downloads/lamas-muni-2000.xls\n",
      "2001 downloads/lamas-muni-2001.xls\n",
      "2002 downloads/lamas-muni-2002.xls\n",
      "2003 downloads/lamas-muni-2003.xls\n",
      "2004 downloads/lamas-muni-2004.xls\n",
      "2005 downloads/lamas-muni-2005.xls\n",
      "2006 downloads/lamas-muni-2006.xls\n",
      "2007 downloads/lamas-muni-2007.xls\n",
      "BAD FLOATS {'x'}\n",
      "BAD FLOATS {'x'}\n",
      "2008 downloads/lamas-muni-2008.xls\n",
      "BAD FLOATS {'x'}\n",
      "BAD FLOATS {'x'}\n",
      "2009 downloads/lamas-muni-2009.xls\n",
      "BAD FLOATS {'x'}\n",
      "BAD FLOATS {'x'}\n",
      "2010 downloads/lamas-muni-2010.xls\n",
      "BAD FLOATS {'x'}\n",
      "BAD FLOATS {'x'}\n",
      "2011 downloads/lamas-muni-2011.xls\n",
      "BAD FLOATS {'x'}\n",
      "BAD FLOATS {'x'}\n",
      "2012 downloads/lamas-muni-2012.xls\n",
      "2013 downloads/lamas-muni-2013.xls\n",
      "2014 downloads/lamas-muni-2014.xls\n",
      "BAD FLOATS {'10.000.0', '144.000.0', '56.862.0', '11.000.0', '1777.000.0', '447.000.0', '569.453.0', '2684.000.0', '21.000.0', '3.000.0', '232.000.0', '54.000.0'}\n",
      "2015 downloads/lamas-muni-2015.xls\n",
      "BAD FLOATS {'2.930.0', '573.865.0', '2165.000.0', '2782.000.0', '11.000.0', '240.000.0', '354.000.0', '42.000.0', '56.000.0', '21.000.0', '58.770.0', '18.000.0'}\n",
      "2016 downloads/lamas-muni-2016.xlsx\n",
      "BAD FLOATS {'http://www.cbs.gov.il/hodaot2017n/24_17_341t2.xls'}\n",
      "BAD FLOATS {'485.000.0', '210.000.0', '1833.000.0', '17.620.0', '576.650.0', '2803.000.0', '57.000.0', '11.000.0', '10.350.0', '59.034.0', '18.000.0'}\n",
      "2017 downloads/lamas-muni-2017.xlsx\n"
     ]
    },
    {
     "name": "stderr",
     "output_type": "stream",
     "text": [
      "/Users/adam/.pyenv/versions/3.9.4/lib/python3.9/site-packages/openpyxl/worksheet/_reader.py:312: UserWarning: Conditional Formatting extension is not supported and will be removed\n",
      "  warn(msg)\n"
     ]
    },
    {
     "name": "stdout",
     "output_type": "stream",
     "text": [
      "BAD FLOATS {'=Q94/R94100'}\n",
      "2018 downloads/lamas-muni-2018.xlsx\n",
      "2019 downloads/lamas-muni-2019.xlsx\n",
      "2020 downloads/lamas-muni-2020.xlsx\n",
      "ALL HEB YEARS {'תשע\"א', 'תשע\"ח', 'תשס\"ז', 'תשס\"ח', 'תשס\"ה', 'תש\"ף', 'תשע\"ו', 'תש\"ע', 'תשפ\"א', 'תשע\"ז', 'תשס\"ט', 'תשס\"ג', 'תשע\"ה', 'תשס\"ו', 'תשס\"ב', 'תשס\"ד', 'תשע\"ד', 'תש\"ס', 'תשע\"ג', 'תשע\"ב', 'תשע\"ט', 'תשס\"א'}\n",
      "GOT 2821 translations\n",
      "# HEADERS 1709\n",
      "0 headers\n",
      "100 headers\n",
      "200 headers\n",
      "300 headers\n",
      "400 headers\n",
      "500 headers\n",
      "600 headers\n",
      "700 headers\n",
      "800 headers\n",
      "900 headers\n",
      "1000 headers\n",
      "1100 headers\n",
      "1200 headers\n",
      "1300 headers\n",
      "1400 headers\n",
      "1500 headers\n",
      "1600 headers\n",
      "1700 headers\n",
      "HEADERS MAP 309\n"
     ]
    }
   ],
   "source": [
    "data = process_headers(preprocess_files(filenames)).results()[0][0]\n",
    "# data[:200]"
   ]
  },
  {
   "cell_type": "code",
   "execution_count": 5,
   "metadata": {},
   "outputs": [],
   "source": [
    "if False:\n",
    "    import dataflows as DF\n",
    "    from collections import Counter\n",
    "    from dataflows_airtable import load_from_airtable, dump_to_airtable, AIRTABLE_ID_FIELD\n",
    "\n",
    "    print('GETTING MAPPING', len(data))\n",
    "    mapping = DF.Flow(\n",
    "        data,\n",
    "        DF.select_fields(['header', 'orig_header']),\n",
    "        DF.update_resource(-1, name='headers'),\n",
    "        DF.join_with_self('headers', ['orig_header', 'header'], dict(header=None, orig_header=None)),\n",
    "    ).results()[0][0]\n",
    "    print('GOT MAPPING', len(mapping))\n",
    "\n",
    "    DF.Flow(\n",
    "        load_from_airtable('apptGe94qTaLjk5Fr', 'Header Mapping', 'Grid view', 'env://AIRTABLE_API_KEY'),\n",
    "        DF.select_fields([AIRTABLE_ID_FIELD, 'header', 'orig_header']),\n",
    "        DF.update_resource(-1, name='current'),\n",
    "        mapping,\n",
    "        DF.update_resource(-1, name='headers', path='data/headers.csv'),\n",
    "        DF.add_field('count', 'integer', 1),\n",
    "        DF.join('current', ['orig_header'], 'headers', ['orig_header'], {AIRTABLE_ID_FIELD:None}, mode='full-outer'),\n",
    "        DF.set_type('count', transform=lambda v: 1 if v else 0),\n",
    "        dump_to_airtable({\n",
    "            ('apptGe94qTaLjk5Fr', 'Header Mapping'): {\n",
    "                'resource-name': 'headers',\n",
    "            }\n",
    "        }, 'env://AIRTABLE_API_KEY'),\n",
    "    ).process()\n"
   ]
  },
  {
   "cell_type": "code",
   "execution_count": 6,
   "metadata": {},
   "outputs": [
    {
     "name": "stderr",
     "output_type": "stream",
     "text": [
      "/Users/adam/.pyenv/versions/3.9.4/lib/python3.9/site-packages/dataflows/processors/join.py:189: UserWarning: For the `join` processor the `full=True` flag is deprecated. Please use the \"mode\" parameter instead.\n",
      "  warnings.warn(\n"
     ]
    },
    {
     "name": "stdout",
     "output_type": "stream",
     "text": [
      "[{'header': 'אורך חוף מוכרז לרחצה במטרים', 'count': 1, 'max_year': 2004, 'min_year': 2004, 'years': [2004]}, {'header': 'אזור', 'count': 6, 'max_year': 2004, 'min_year': 1999, 'years': [1999, 2000, 2001, 2002, 2003, 2004]}, {'header': 'אחוז בני 0-17 באוכלוסייה', 'count': 22, 'max_year': 2020, 'min_year': 1999, 'years': [1999, 2000, 2001, 2002, 2003, 2004, 2005, 2006, 2007, 2008, 2009, 2010, 2011, 2012, 2013, 2014, 2015, 2016, 2017, 2018, 2019, 2020]}, {'header': 'אחוז בני 0-4 באוכלוסייה', 'count': 22, 'max_year': 2020, 'min_year': 1999, 'years': [1999, 2000, 2001, 2002, 2003, 2004, 2005, 2006, 2007, 2008, 2009, 2010, 2011, 2012, 2013, 2014, 2015, 2016, 2017, 2018, 2019, 2020]}, {'header': 'אחוז בני 10-14 באוכלוסייה', 'count': 22, 'max_year': 2020, 'min_year': 1999, 'years': [1999, 2000, 2001, 2002, 2003, 2004, 2005, 2006, 2007, 2008, 2009, 2010, 2011, 2012, 2013, 2014, 2015, 2016, 2017, 2018, 2019, 2020]}, {'header': 'אחוז בני 15-19 באוכלוסייה', 'count': 22, 'max_year': 2020, 'min_year': 1999, 'years': [1999, 2000, 2001, 2002, 2003, 2004, 2005, 2006, 2007, 2008, 2009, 2010, 2011, 2012, 2013, 2014, 2015, 2016, 2017, 2018, 2019, 2020]}, {'header': 'אחוז בני 20-29 באוכלוסייה', 'count': 22, 'max_year': 2020, 'min_year': 1999, 'years': [1999, 2000, 2001, 2002, 2003, 2004, 2005, 2006, 2007, 2008, 2009, 2010, 2011, 2012, 2013, 2014, 2015, 2016, 2017, 2018, 2019, 2020]}, {'header': 'אחוז בני 30-44 באוכלוסייה', 'count': 22, 'max_year': 2020, 'min_year': 1999, 'years': [1999, 2000, 2001, 2002, 2003, 2004, 2005, 2006, 2007, 2008, 2009, 2010, 2011, 2012, 2013, 2014, 2015, 2016, 2017, 2018, 2019, 2020]}, {'header': 'אחוז בני 45-59 באוכלוסייה', 'count': 22, 'max_year': 2020, 'min_year': 1999, 'years': [1999, 2000, 2001, 2002, 2003, 2004, 2005, 2006, 2007, 2008, 2009, 2010, 2011, 2012, 2013, 2014, 2015, 2016, 2017, 2018, 2019, 2020]}, {'header': 'אחוז בני 5-9 באוכלוסייה', 'count': 22, 'max_year': 2020, 'min_year': 1999, 'years': [1999, 2000, 2001, 2002, 2003, 2004, 2005, 2006, 2007, 2008, 2009, 2010, 2011, 2012, 2013, 2014, 2015, 2016, 2017, 2018, 2019, 2020]}]\n"
     ]
    },
    {
     "data": {
      "text/plain": [
       "(<datapackage.package.Package at 0x12cde7f40>, {})"
      ]
     },
     "execution_count": 6,
     "metadata": {},
     "output_type": "execute_result"
    }
   ],
   "source": [
    "import dataflows as DF\n",
    "from collections import Counter\n",
    "from dataflows_airtable import load_from_airtable, dump_to_airtable, AIRTABLE_ID_FIELD\n",
    "\n",
    "mapping = DF.Flow(\n",
    "    data,\n",
    "    DF.select_fields(['header', 'year']),\n",
    "    DF.update_resource(-1, name='headers'),\n",
    "    DF.join_with_self('headers', ['header', 'year'], dict(\n",
    "        header=None,\n",
    "        year=None,\n",
    "    )),\n",
    "    DF.sort_rows('{year}'),\n",
    "    DF.join_with_self('headers', ['header'], dict(\n",
    "        header=None,\n",
    "        years=dict(name='year', aggregate='array'),\n",
    "        count=dict(aggregate='count'),\n",
    "        max_year=dict(name='year', aggregate='max'),\n",
    "        min_year=dict(name='year', aggregate='min')\n",
    "    )),\n",
    ").results()[0][0]\n",
    "print(mapping[:10])\n",
    "\n",
    "DF.Flow(\n",
    "    load_from_airtable('apptGe94qTaLjk5Fr', 'Stats', 'Grid view', 'env://AIRTABLE_API_KEY'),\n",
    "    DF.select_fields([AIRTABLE_ID_FIELD, 'header']),\n",
    "    DF.update_resource(-1, name='current'),\n",
    "    mapping,\n",
    "    DF.update_resource(-1, name='headers', path='data/headers.csv'),\n",
    "    DF.join('current', ['header'], 'headers', ['header'], {AIRTABLE_ID_FIELD:None}, mode='full-outer'),\n",
    "    DF.set_type('count', transform=lambda v: v or 0),\n",
    "    DF.set_type('years', type='string', transform=lambda v: ','.join(sorted(map(str,v))) if v else ''),\n",
    "    dump_to_airtable({\n",
    "        ('apptGe94qTaLjk5Fr', 'Stats'): {\n",
    "            'resource-name': 'headers',\n",
    "        }\n",
    "    }, 'env://AIRTABLE_API_KEY'),\n",
    ").process()\n"
   ]
  },
  {
   "cell_type": "code",
   "execution_count": 7,
   "metadata": {},
   "outputs": [
    {
     "data": {
      "text/plain": [
       "(<datapackage.package.Package at 0x13d6f9280>,\n",
       " {'count_of_rows': 1691228,\n",
       "  'bytes': None,\n",
       "  'hash': '26e1f7cbb6325aa6c94fc0a1ac4cc9de',\n",
       "  'dataset_name': None})"
      ]
     },
     "execution_count": 7,
     "metadata": {},
     "output_type": "execute_result"
    }
   ],
   "source": [
    "### WRITE TO DB\n",
    "\n",
    "import dataflows as DF\n",
    "\n",
    "DF.Flow(\n",
    "    data,\n",
    "    value_fixes(),\n",
    "    # DF.set_type('orig_header', type='string', transform=lambda v: '/'.join(v)),\n",
    "    DF.update_resource(-1, name='lamas'),\n",
    "    DF.dump_to_sql(dict(\n",
    "        lamas_muni={\n",
    "            'resource-name': 'lamas',\n",
    "            'mode': 'rewrite',\n",
    "            'indexes_fields': [\n",
    "                ['header'], ['year'], ['name'], ['name', 'header'], ['name', 'year'], ['year', 'header'], ['name', 'year', 'header'],\n",
    "            ]\n",
    "        }\n",
    "    ))\n",
    ").process()\n"
   ]
  },
  {
   "cell_type": "code",
   "execution_count": null,
   "metadata": {},
   "outputs": [],
   "source": []
  }
 ],
 "metadata": {
  "interpreter": {
   "hash": "72eeb4ac6a97a28138a106fc44f537be30ef848e84c48d6548d2ea910cd7eb2a"
  },
  "kernelspec": {
   "display_name": "Python 3.9.4 64-bit ('3.9.4')",
   "language": "python",
   "name": "python3"
  },
  "language_info": {
   "codemirror_mode": {
    "name": "ipython",
    "version": 3
   },
   "file_extension": ".py",
   "mimetype": "text/x-python",
   "name": "python",
   "nbconvert_exporter": "python",
   "pygments_lexer": "ipython3",
   "version": "3.9.4"
  },
  "orig_nbformat": 4
 },
 "nbformat": 4,
 "nbformat_minor": 2
}
